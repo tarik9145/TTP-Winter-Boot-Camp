{
  "nbformat": 4,
  "nbformat_minor": 0,
  "metadata": {
    "colab": {
      "name": "Functions.ipynb",
      "provenance": [],
      "collapsed_sections": [],
      "authorship_tag": "ABX9TyOEUKBDZwE7XxiBR9Fauci/",
      "include_colab_link": true
    },
    "kernelspec": {
      "name": "python3",
      "display_name": "Python 3"
    },
    "language_info": {
      "name": "python"
    }
  },
  "cells": [
    {
      "cell_type": "markdown",
      "metadata": {
        "id": "view-in-github",
        "colab_type": "text"
      },
      "source": [
        "<a href=\"https://colab.research.google.com/github/tarik9145/TTP-Winter-Boot-Camp/blob/main/Functions.ipynb\" target=\"_parent\"><img src=\"https://colab.research.google.com/assets/colab-badge.svg\" alt=\"Open In Colab\"/></a>"
      ]
    },
    {
      "cell_type": "markdown",
      "source": [
        "#Functions"
      ],
      "metadata": {
        "id": "0a8UI4yARPxC"
      }
    },
    {
      "cell_type": "markdown",
      "source": [
        "# So what is a function?\n",
        "\n",
        "Formally, a function is a useful device that groups together a set of statements so they can be run more than once. They can also let us specify parameters that can serve as inputs to the functions.\n",
        "\n",
        "On a more fundamental level, functions allow us to not have to repeatedly write the same code again and again. If you remember back to the lessons on strings and lists, remember that we used a function len() to get the length of a string. Since checking the length of a sequence is a common task you would want to write a function that can do this repeatedly at command.\n",
        "\n",
        "Functions will be one of most basic levels of reusing code in Python, and it will also allow us to start thinking of program design (we will dive much deeper into the ideas of design when we learn about Object Oriented Programming)."
      ],
      "metadata": {
        "id": "UxdG6WNrY57Y"
      }
    },
    {
      "cell_type": "markdown",
      "source": [
        "#def Statements\n",
        "\n",
        "Let's see how to build out a function's syntax in Python. It has the following form:"
      ],
      "metadata": {
        "id": "0uveCeh0Y51J"
      }
    },
    {
      "cell_type": "code",
      "source": [
        "def name_of_function(arg1,arg2):\n",
        "    '''\n",
        "    This is where the function's Document String (doc-string) goes\n",
        "    '''\n",
        "    # Do stuff here\n",
        "    #return desired result"
      ],
      "metadata": {
        "id": "GW1OdtAlY5xx"
      },
      "execution_count": 2,
      "outputs": []
    },
    {
      "cell_type": "code",
      "source": [
        "def say_hello():\n",
        "    print('hello')"
      ],
      "metadata": {
        "id": "hq5iaOb4Y5tM"
      },
      "execution_count": 3,
      "outputs": []
    },
    {
      "cell_type": "code",
      "source": [
        "say_hello()"
      ],
      "metadata": {
        "colab": {
          "base_uri": "https://localhost:8080/"
        },
        "id": "M5GFg5GpY5qc",
        "outputId": "215e4ba8-138c-41e0-9dc3-8a1b61df2c4b"
      },
      "execution_count": 4,
      "outputs": [
        {
          "output_type": "stream",
          "name": "stdout",
          "text": [
            "hello\n"
          ]
        }
      ]
    },
    {
      "cell_type": "code",
      "source": [
        "def greetings(name):\n",
        "  '''\n",
        "  Author: \n",
        "  Input: name\n",
        "  Output: hello name\n",
        "  '''\n",
        "  print(f'Hello there {name}')"
      ],
      "metadata": {
        "id": "j4A-Jd1wbNQf"
      },
      "execution_count": 7,
      "outputs": []
    },
    {
      "cell_type": "code",
      "source": [
        "greetings(1)"
      ],
      "metadata": {
        "colab": {
          "base_uri": "https://localhost:8080/"
        },
        "id": "rPsYfEgubNM1",
        "outputId": "8d25a156-b735-45e6-a2ea-d7e247eb9f84"
      },
      "execution_count": 11,
      "outputs": [
        {
          "output_type": "stream",
          "name": "stdout",
          "text": [
            "Hello there 1\n"
          ]
        }
      ]
    },
    {
      "cell_type": "code",
      "source": [
        "def add_num(x, y):\n",
        "  return x + y"
      ],
      "metadata": {
        "id": "9KO3kEGybNIp"
      },
      "execution_count": 12,
      "outputs": []
    },
    {
      "cell_type": "code",
      "source": [
        "add_num(34, 6)"
      ],
      "metadata": {
        "colab": {
          "base_uri": "https://localhost:8080/"
        },
        "id": "IBLtoU3tbNEt",
        "outputId": "6a721ff5-8124-4657-f629-0450fa6e7c71"
      },
      "execution_count": 13,
      "outputs": [
        {
          "output_type": "execute_result",
          "data": {
            "text/plain": [
              "40"
            ]
          },
          "metadata": {},
          "execution_count": 13
        }
      ]
    },
    {
      "cell_type": "code",
      "source": [
        "# Write a function that check if a number is prime.!\n",
        "\n",
        "# 1. What do we want?\n",
        "# we want a function that checks if a number is prime.\n",
        "\n",
        "# 2. What do we need?\n",
        "# Well, I need to first define what a prime numnber is.\n",
        "# then, design some type of methodology to pass a number and confirm whether it is prime of not.\n",
        "\n",
        "# 3. What do we have?\n",
        "# python, definition of prime numbers\n",
        "\n",
        "def isPrime(n):\n",
        "  '''\n",
        "  '''\n",
        "  for i in range(2, n):\n",
        "    if n % i == 0:\n",
        "      print(f'The number {n} is not prime')\n",
        "      break\n",
        "  else:\n",
        "    print(f'The number {n} is prime')"
      ],
      "metadata": {
        "id": "K7_83HnabNAe"
      },
      "execution_count": 15,
      "outputs": []
    },
    {
      "cell_type": "code",
      "source": [
        "isPrime(9)"
      ],
      "metadata": {
        "colab": {
          "base_uri": "https://localhost:8080/"
        },
        "id": "ifCGz4ocZE3O",
        "outputId": "6ffe98bf-d0c1-4ee2-ab75-a335280323f7"
      },
      "execution_count": 16,
      "outputs": [
        {
          "output_type": "stream",
          "name": "stdout",
          "text": [
            "The number 9 is not prime\n"
          ]
        }
      ]
    },
    {
      "cell_type": "code",
      "source": [
        "# Store data into a variable with \"return\"\n",
        "\n",
        "def greeting(name = \"Mark\"):\n",
        "    return \"Hello \" + name"
      ],
      "metadata": {
        "id": "7bUb6KRwZE0M"
      },
      "execution_count": 17,
      "outputs": []
    },
    {
      "cell_type": "code",
      "source": [
        "greeting('Tasha')"
      ],
      "metadata": {
        "colab": {
          "base_uri": "https://localhost:8080/",
          "height": 37
        },
        "id": "Y61t4z_nZExe",
        "outputId": "fe6f2826-4f6c-430e-cb5e-94d3bea44962"
      },
      "execution_count": 18,
      "outputs": [
        {
          "output_type": "execute_result",
          "data": {
            "application/vnd.google.colaboratory.intrinsic+json": {
              "type": "string"
            },
            "text/plain": [
              "'Hello Tasha'"
            ]
          },
          "metadata": {},
          "execution_count": 18
        }
      ]
    },
    {
      "cell_type": "code",
      "source": [
        "def even_number(l):\n",
        "    \"\"\"\n",
        "    It's a function to print even number's\n",
        "    input: A list with numbers\n",
        "    output: A list with even numbers\n",
        "    \"\"\"\n",
        "    enum = []\n",
        "    for n in l:\n",
        "        if n % 2 == 0:\n",
        "            enum.append(n)\n",
        "    return(enum)"
      ],
      "metadata": {
        "id": "KWiEHHmKZEuS"
      },
      "execution_count": 19,
      "outputs": []
    },
    {
      "cell_type": "code",
      "source": [
        "help(even_number)"
      ],
      "metadata": {
        "colab": {
          "base_uri": "https://localhost:8080/"
        },
        "id": "KpVB5B0CZEo4",
        "outputId": "1b08e4ec-eda5-4b0a-94c9-cf85fd272ded"
      },
      "execution_count": 20,
      "outputs": [
        {
          "output_type": "stream",
          "name": "stdout",
          "text": [
            "Help on function even_number in module __main__:\n",
            "\n",
            "even_number(l)\n",
            "    It's a function to print even number's\n",
            "    input: A list with numbers\n",
            "    output: A list with even numbers\n",
            "\n"
          ]
        }
      ]
    },
    {
      "cell_type": "code",
      "source": [
        "even_number([123, 23456, 8765, 8765, 987, 666, 453, 21345, 6789, 98765, 22223, 34556, 78])"
      ],
      "metadata": {
        "colab": {
          "base_uri": "https://localhost:8080/"
        },
        "id": "2S7C1NJkZEjj",
        "outputId": "e64d1408-52cb-423f-d2c8-66eb236d31b0"
      },
      "execution_count": 21,
      "outputs": [
        {
          "output_type": "execute_result",
          "data": {
            "text/plain": [
              "[23456, 666, 34556, 78]"
            ]
          },
          "metadata": {},
          "execution_count": 21
        }
      ]
    },
    {
      "cell_type": "code",
      "source": [
        ""
      ],
      "metadata": {
        "id": "YEOgOK8xhIIc"
      },
      "execution_count": null,
      "outputs": []
    },
    {
      "cell_type": "code",
      "source": [
        ""
      ],
      "metadata": {
        "id": "W-Up_xdghIFq"
      },
      "execution_count": null,
      "outputs": []
    },
    {
      "cell_type": "code",
      "source": [
        ""
      ],
      "metadata": {
        "id": "6IcGG7rchICi"
      },
      "execution_count": null,
      "outputs": []
    },
    {
      "cell_type": "code",
      "source": [
        ""
      ],
      "metadata": {
        "id": "Qh13KGhAhH_t"
      },
      "execution_count": null,
      "outputs": []
    }
  ]
}