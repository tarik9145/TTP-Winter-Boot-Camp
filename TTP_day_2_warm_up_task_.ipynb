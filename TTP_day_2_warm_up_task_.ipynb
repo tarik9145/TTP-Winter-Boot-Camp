{
  "nbformat": 4,
  "nbformat_minor": 0,
  "metadata": {
    "colab": {
      "name": "TTP day 2 warm up task .ipynb",
      "provenance": [],
      "collapsed_sections": [],
      "authorship_tag": "ABX9TyPgfQDwB7AtqTQEyTQkwcW0",
      "include_colab_link": true
    },
    "kernelspec": {
      "name": "python3",
      "display_name": "Python 3"
    },
    "language_info": {
      "name": "python"
    }
  },
  "cells": [
    {
      "cell_type": "markdown",
      "metadata": {
        "id": "view-in-github",
        "colab_type": "text"
      },
      "source": [
        "<a href=\"https://colab.research.google.com/github/tarik9145/TTP-Winter-Boot-Camp/blob/main/TTP_day_2_warm_up_task_.ipynb\" target=\"_parent\"><img src=\"https://colab.research.google.com/assets/colab-badge.svg\" alt=\"Open In Colab\"/></a>"
      ]
    },
    {
      "cell_type": "markdown",
      "source": [
        "#Class Task"
      ],
      "metadata": {
        "id": "4PCGyRIAg81D"
      }
    },
    {
      "cell_type": "markdown",
      "source": [
        "Using the Slice Syntax"
      ],
      "metadata": {
        "id": "LblWVlsqhDbL"
      }
    },
    {
      "cell_type": "code",
      "source": [
        "#1. Select a set of characters from “Hello World” to print\n",
        "txt = 'Hello World'\n",
        "print(txt[2:5])\n",
        "#In previous line i print 2 letter 3 and 5"
      ],
      "metadata": {
        "colab": {
          "base_uri": "https://localhost:8080/"
        },
        "id": "IsnkgUxh9MJ8",
        "outputId": "56e2e5f7-e174-4f9b-e9d7-6448e94456db"
      },
      "execution_count": null,
      "outputs": [
        {
          "output_type": "stream",
          "name": "stdout",
          "text": [
            "llo\n"
          ]
        }
      ]
    },
    {
      "cell_type": "code",
      "source": [
        "#2.\n",
        "text = \"Hello World\"[::-1]\n",
        "print(text)\n",
        "# here the reverse of \"Hellow World\" is dlroW olleH"
      ],
      "metadata": {
        "colab": {
          "base_uri": "https://localhost:8080/"
        },
        "id": "ZM2Z8HiehDUG",
        "outputId": "5a4329a7-cadc-4e5d-b5b3-0627217eae11"
      },
      "execution_count": 23,
      "outputs": [
        {
          "output_type": "stream",
          "name": "stdout",
          "text": [
            "dlroW olleH\n"
          ]
        }
      ]
    },
    {
      "cell_type": "code",
      "source": [
        "#3\n",
        "useIn = input() [::-1]\n",
        "print(useIn)\n",
        "#reverse operation has done"
      ],
      "metadata": {
        "colab": {
          "base_uri": "https://localhost:8080/"
        },
        "id": "qCGDckJPVGHw",
        "outputId": "bd16e536-3269-4538-925e-0598fb0f34a1"
      },
      "execution_count": 24,
      "outputs": [
        {
          "output_type": "stream",
          "name": "stdout",
          "text": [
            "How are you?\n",
            "?uoy era woH\n"
          ]
        }
      ]
    },
    {
      "cell_type": "code",
      "source": [
        "#4\n",
        "sentence = input('hey honey, ')\n",
        "print(sentence)\n",
        "#reverse operation has done\n"
      ],
      "metadata": {
        "colab": {
          "base_uri": "https://localhost:8080/"
        },
        "id": "b7TpNMq0huQF",
        "outputId": "44636824-5944-4306-b584-67e4fbe21c5b"
      },
      "execution_count": null,
      "outputs": [
        {
          "output_type": "stream",
          "name": "stdout",
          "text": [
            "hey honey, you look so good today\n",
            "you look so good today\n"
          ]
        }
      ]
    },
    {
      "cell_type": "code",
      "source": [
        "#5\n",
        "name = 'iphone'\n",
        "model = 13\n",
        "size = 6.7\n",
        "print('The type is: ', type(name), type(model), type(size))\n",
        "# I have used three types of objects called name, model and size"
      ],
      "metadata": {
        "colab": {
          "base_uri": "https://localhost:8080/"
        },
        "id": "6ZxLsPGuhuNN",
        "outputId": "cdb120b9-ea6e-4cf5-ccc6-4b2302bfe67b"
      },
      "execution_count": 10,
      "outputs": [
        {
          "output_type": "stream",
          "name": "stdout",
          "text": [
            "The type is:  <class 'str'> <class 'int'> <class 'float'>\n"
          ]
        }
      ]
    },
    {
      "cell_type": "code",
      "source": [
        "#6\n",
        "a = 10\n",
        "b = 20\n",
        "print(a+b)\n",
        "#general addition is done here"
      ],
      "metadata": {
        "colab": {
          "base_uri": "https://localhost:8080/"
        },
        "id": "6aurqPX-huHq",
        "outputId": "46821a33-d2a4-4563-f67a-445355d68682"
      },
      "execution_count": null,
      "outputs": [
        {
          "output_type": "stream",
          "name": "stdout",
          "text": [
            "30\n"
          ]
        }
      ]
    },
    {
      "cell_type": "code",
      "source": [
        "#7\n",
        "number = int(input(\"enter a number: \"))\n",
        "sqrt = number ** 0.5\n",
        "print(\"square root:\", sqrt)\n",
        "#the operation of finding square root is done here"
      ],
      "metadata": {
        "colab": {
          "base_uri": "https://localhost:8080/"
        },
        "id": "6c1l8FOxrn4v",
        "outputId": "526181da-522c-47ed-c1b3-b0d8121c20b2"
      },
      "execution_count": 22,
      "outputs": [
        {
          "output_type": "stream",
          "name": "stdout",
          "text": [
            "enter a number: 81\n",
            "square root: 9.0\n"
          ]
        }
      ]
    },
    {
      "cell_type": "code",
      "source": [
        "#8\n",
        "a = 30\n",
        "b = 5\n",
        "print (a/b)\n",
        "#Division problem is done here"
      ],
      "metadata": {
        "colab": {
          "base_uri": "https://localhost:8080/"
        },
        "id": "EyUdjZybrn0i",
        "outputId": "9e849560-b0f2-4627-e8e0-5ba5b433c8db"
      },
      "execution_count": null,
      "outputs": [
        {
          "output_type": "stream",
          "name": "stdout",
          "text": [
            "6.0\n"
          ]
        }
      ]
    },
    {
      "cell_type": "code",
      "source": [
        "print (a//b)\n",
        "#Division problem is done here"
      ],
      "metadata": {
        "colab": {
          "base_uri": "https://localhost:8080/"
        },
        "id": "cJwm5JzCrnyO",
        "outputId": "2b3ca51d-d37e-48af-b61b-81d8bfaa2968"
      },
      "execution_count": null,
      "outputs": [
        {
          "output_type": "stream",
          "name": "stdout",
          "text": [
            "6\n"
          ]
        }
      ]
    },
    {
      "cell_type": "code",
      "source": [
        "a = 50\n",
        "b = 7\n",
        "print(a/b)\n",
        "print(b/a)\n",
        "print(a//b)\n",
        "print(b//a)\n",
        "#Division problem is done here"
      ],
      "metadata": {
        "colab": {
          "base_uri": "https://localhost:8080/"
        },
        "id": "PWPGG4LNrnvC",
        "outputId": "e221a85e-191a-48a5-feb6-64c4eb3aafaf"
      },
      "execution_count": null,
      "outputs": [
        {
          "output_type": "stream",
          "name": "stdout",
          "text": [
            "7.142857142857143\n",
            "0.14\n",
            "7\n",
            "0\n"
          ]
        }
      ]
    },
    {
      "cell_type": "code",
      "source": [
        "#8\n",
        "n1 = 5\n",
        "n2 = 10\n",
        "n3 = 2\n",
        "n4 = 3\n",
        "n5= 4\n",
        "\n",
        "x1 = n1**2\n",
        "x2 = n2**2\n",
        "x3 = n3**2\n",
        "x4 = n4**2\n",
        "x5 = n5**2"
      ],
      "metadata": {
        "id": "bIU6aU24X5F5"
      },
      "execution_count": 19,
      "outputs": []
    },
    {
      "cell_type": "code",
      "source": [
        "'''\n",
        "print(x1 / 2)\n",
        "print(x2 / 2)\n",
        "print(x3 / 2)\n",
        "print(x4 / 2)\n",
        "print(x5 / 2)\n",
        "'''\n",
        "\n",
        "print(x1 // 2)\n",
        "print(x2 // 2)\n",
        "print(x3 // 2)\n",
        "print(x4 // 2)\n",
        "print(x5 // 2)\n",
        "#Division problem is done here"
      ],
      "metadata": {
        "colab": {
          "base_uri": "https://localhost:8080/"
        },
        "id": "N_IThE5QX8Mj",
        "outputId": "ff254bdf-03a0-4748-9d96-ef2c6ac1af9c"
      },
      "execution_count": 20,
      "outputs": [
        {
          "output_type": "stream",
          "name": "stdout",
          "text": [
            "12\n",
            "50\n",
            "2\n",
            "4\n",
            "8\n"
          ]
        }
      ]
    },
    {
      "cell_type": "code",
      "source": [
        "# 9 & 10 \n",
        "#List of strings\n",
        "list1 = [\"This\" , \"is\", \"a\", \"sample\", \"program\"]\n",
        "# List of ints\n",
        "list2 = [10, 2, 45, 3, 5, 7, 8, 10]\n",
        "# Merge two lists\n",
        "final_list = list1 + list2\n",
        "print('Merged List:')\n",
        "print(final_list)\n",
        "# two lists and arrays are crated and combined here"
      ],
      "metadata": {
        "colab": {
          "base_uri": "https://localhost:8080/"
        },
        "id": "TjryM3Carnsr",
        "outputId": "adacb9ef-ec64-46c7-c93a-993e04b42db5"
      },
      "execution_count": null,
      "outputs": [
        {
          "output_type": "stream",
          "name": "stdout",
          "text": [
            "Merged List:\n",
            "['This', 'is', 'a', 'sample', 'program', 10, 2, 45, 3, 5, 7, 8, 10]\n"
          ]
        }
      ]
    },
    {
      "cell_type": "code",
      "source": [
        ""
      ],
      "metadata": {
        "id": "Sd2m1dzHBoKB"
      },
      "execution_count": null,
      "outputs": []
    },
    {
      "cell_type": "code",
      "source": [
        "#11\n",
        "b = 123\n",
        "c = 2j\n",
        "d = 1.0\n",
        "\n",
        "a1 = float(b)\n",
        "a2 = int(b)\n",
        "a3 = str(d)\n",
        "print(a1)\n",
        "print(a2)\n",
        "print(a3)\n",
        "# objects are converted"
      ],
      "metadata": {
        "colab": {
          "base_uri": "https://localhost:8080/"
        },
        "id": "ktbULQyeXleQ",
        "outputId": "2e234d07-ae02-4fa7-fab2-85c8610a23f1"
      },
      "execution_count": 16,
      "outputs": [
        {
          "output_type": "stream",
          "name": "stdout",
          "text": [
            "123.0\n",
            "123\n",
            "1.0\n"
          ]
        }
      ]
    },
    {
      "cell_type": "code",
      "source": [
        "#12\n",
        "text = \"hello world\"\n",
        "print(text.upper())\n",
        "# lower case strings are converted into uppercase"
      ],
      "metadata": {
        "colab": {
          "base_uri": "https://localhost:8080/"
        },
        "id": "YTb4_SzdDNxF",
        "outputId": "8f0a5f05-a032-4536-8b59-e525ded73863"
      },
      "execution_count": null,
      "outputs": [
        {
          "output_type": "stream",
          "name": "stdout",
          "text": [
            "HELLO WORLD\n"
          ]
        }
      ]
    },
    {
      "cell_type": "code",
      "source": [
        "#13\n",
        "list(\"python\")\n",
        "# python is printed as one letter"
      ],
      "metadata": {
        "colab": {
          "base_uri": "https://localhost:8080/"
        },
        "id": "TIJWynh4BoHB",
        "outputId": "f92f5cc2-22ac-4910-e257-1396ee342fcd"
      },
      "execution_count": null,
      "outputs": [
        {
          "output_type": "execute_result",
          "data": {
            "text/plain": [
              "['p', 'y', 't', 'h', 'o', 'n']"
            ]
          },
          "metadata": {},
          "execution_count": 5
        }
      ]
    },
    {
      "cell_type": "code",
      "source": [
        "#13\n",
        "a_string = \"python\"\n",
        "for letter in a_string:\n",
        "  print(letter)\n",
        "  # python is printed as one letter"
      ],
      "metadata": {
        "colab": {
          "base_uri": "https://localhost:8080/"
        },
        "id": "9kVgCeG6Cw--",
        "outputId": "4202cf4f-a822-4805-fe13-9d896a886aac"
      },
      "execution_count": null,
      "outputs": [
        {
          "output_type": "stream",
          "name": "stdout",
          "text": [
            "p\n",
            "y\n",
            "t\n",
            "h\n",
            "o\n",
            "n\n"
          ]
        }
      ]
    },
    {
      "cell_type": "code",
      "source": [
        "#14\n",
        "print(a_string[3])\n",
        "#find 3rd letter in the previous string"
      ],
      "metadata": {
        "colab": {
          "base_uri": "https://localhost:8080/"
        },
        "id": "ksdYwK-cXJa6",
        "outputId": "1f2a65c2-ae71-408b-a8e6-5c475810a747"
      },
      "execution_count": 15,
      "outputs": [
        {
          "output_type": "stream",
          "name": "stdout",
          "text": [
            "h\n"
          ]
        }
      ]
    },
    {
      "cell_type": "code",
      "source": [
        "#15\n",
        "import sys\n",
        "print(\"Python version\")\n",
        "print(sys.version)\n",
        "print(\"Version. info\")\n",
        "print(sys.version_info)\n",
        "#system version printer in this statment"
      ],
      "metadata": {
        "id": "pq8IyeBLrnjW",
        "colab": {
          "base_uri": "https://localhost:8080/"
        },
        "outputId": "dd701188-b1a3-46e5-a936-15be9df6a69b"
      },
      "execution_count": null,
      "outputs": [
        {
          "output_type": "stream",
          "name": "stdout",
          "text": [
            "Python version\n",
            "3.7.12 (default, Sep 10 2021, 00:21:48) \n",
            "[GCC 7.5.0]\n",
            "Version. info\n",
            "sys.version_info(major=3, minor=7, micro=12, releaselevel='final', serial=0)\n"
          ]
        }
      ]
    }
  ]
}