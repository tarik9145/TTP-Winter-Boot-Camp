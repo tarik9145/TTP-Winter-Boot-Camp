{
  "nbformat": 4,
  "nbformat_minor": 0,
  "metadata": {
    "colab": {
      "name": "TTP day 3 warm up.ipynb",
      "provenance": [],
      "collapsed_sections": [],
      "authorship_tag": "ABX9TyOZB6fM5I5He32y6ZDsQ0Kv",
      "include_colab_link": true
    },
    "kernelspec": {
      "name": "python3",
      "display_name": "Python 3"
    },
    "language_info": {
      "name": "python"
    }
  },
  "cells": [
    {
      "cell_type": "markdown",
      "metadata": {
        "id": "view-in-github",
        "colab_type": "text"
      },
      "source": [
        "<a href=\"https://colab.research.google.com/github/tarik9145/TTP-Winter-Boot-Camp/blob/main/TTP_day_3_warm_up.ipynb\" target=\"_parent\"><img src=\"https://colab.research.google.com/assets/colab-badge.svg\" alt=\"Open In Colab\"/></a>"
      ]
    },
    {
      "cell_type": "code",
      "execution_count": 1,
      "metadata": {
        "id": "2vDxknPimIIu"
      },
      "outputs": [],
      "source": [
        "# creating a list with 5 data variables\n",
        "a = 'a'\n",
        "b = 'b'\n",
        "c = 'c'\n",
        "d = 'd'\n",
        "e = 'e'\n",
        "mlist = [a,b,c,d,e]"
      ]
    },
    {
      "cell_type": "code",
      "source": [
        "mlist"
      ],
      "metadata": {
        "colab": {
          "base_uri": "https://localhost:8080/"
        },
        "id": "bn74j8KPnaBy",
        "outputId": "8e3f4712-f818-43c4-d261-8d8b8833ac41"
      },
      "execution_count": 2,
      "outputs": [
        {
          "output_type": "execute_result",
          "data": {
            "text/plain": [
              "['a', 'b', 'c', 'd', 'e']"
            ]
          },
          "metadata": {},
          "execution_count": 2
        }
      ]
    },
    {
      "cell_type": "code",
      "source": [
        "# creating a list that holds 10 values\n",
        "list2 = [1,2,3,4,5,6,7,8,9,10]"
      ],
      "metadata": {
        "id": "jNL5W6s0nZ_X"
      },
      "execution_count": 3,
      "outputs": []
    },
    {
      "cell_type": "code",
      "source": [
        "list2"
      ],
      "metadata": {
        "colab": {
          "base_uri": "https://localhost:8080/"
        },
        "id": "0C6iMbh-nZ6O",
        "outputId": "d725fb49-dffa-4b53-9891-0ba4975d54b0"
      },
      "execution_count": 4,
      "outputs": [
        {
          "output_type": "execute_result",
          "data": {
            "text/plain": [
              "[1, 2, 3, 4, 5, 6, 7, 8, 9, 10]"
            ]
          },
          "metadata": {},
          "execution_count": 4
        }
      ]
    },
    {
      "cell_type": "code",
      "source": [
        "# & Creating a simple dictionary with only 2 variables\n",
        "first = 'Tarik'\n",
        "last = 'Miah'\n",
        "mdict = {first: last}"
      ],
      "metadata": {
        "id": "gpdkbeqInxUD"
      },
      "execution_count": 43,
      "outputs": []
    },
    {
      "cell_type": "code",
      "source": [
        "mdict"
      ],
      "metadata": {
        "colab": {
          "base_uri": "https://localhost:8080/"
        },
        "id": "-d0xE7yWnxQF",
        "outputId": "7aabd42a-afae-4b66-8bbd-db9b52752b9e"
      },
      "execution_count": 44,
      "outputs": [
        {
          "output_type": "execute_result",
          "data": {
            "text/plain": [
              "{'Tarik': 'Miah'}"
            ]
          },
          "metadata": {},
          "execution_count": 44
        }
      ]
    },
    {
      "cell_type": "code",
      "source": [
        "#. Printing the key:value pair in a string\n",
        "\n",
        "dictlist = list(mdict.items())\n",
        "# Convert the dictionary to a list\n",
        "print(f'Hello ', dictlist)\n",
        "# Print the items of the list"
      ],
      "metadata": {
        "colab": {
          "base_uri": "https://localhost:8080/"
        },
        "id": "YnJQ02h8nxLw",
        "outputId": "a04f0609-f258-4297-b6b7-52e8d3216345"
      },
      "execution_count": 45,
      "outputs": [
        {
          "output_type": "stream",
          "name": "stdout",
          "text": [
            "Hello  [('Tarik', 'Miah')]\n"
          ]
        }
      ]
    },
    {
      "cell_type": "code",
      "source": [
        "# Creating a dictionary with two key:value pairs\n",
        "mdict2 = {'First name': 'Tarik', 'Last name': 'Miah'}"
      ],
      "metadata": {
        "id": "Nxhh4tvrnxIj"
      },
      "execution_count": 46,
      "outputs": []
    },
    {
      "cell_type": "code",
      "source": [
        "mdict2"
      ],
      "metadata": {
        "colab": {
          "base_uri": "https://localhost:8080/"
        },
        "id": "ujxDBBPRnxE7",
        "outputId": "cf37dd81-7d07-4f44-ea33-d63b00001d0b"
      },
      "execution_count": 47,
      "outputs": [
        {
          "output_type": "execute_result",
          "data": {
            "text/plain": [
              "{'First name': 'Tarik', 'Last name': 'Miah'}"
            ]
          },
          "metadata": {},
          "execution_count": 47
        }
      ]
    },
    {
      "cell_type": "code",
      "source": [
        "# Creating a nested dictionary conitaining three dictionaries\n",
        "d = {'favorite pets':{'number 1':'dogs', 'number 2':'birds'}, 'favorite people':{'number 1': 'mom', 'number 2':'dad'}, 'favorite foods':{'number 1':'Biriany', 'number 2':'goat'}}"
      ],
      "metadata": {
        "id": "crBU9eI9nxBG"
      },
      "execution_count": 49,
      "outputs": []
    },
    {
      "cell_type": "code",
      "source": [
        "# looping through to print each pair\n",
        "for k,v in d.items():\n",
        "  print(k)\n",
        "  print(v)"
      ],
      "metadata": {
        "colab": {
          "base_uri": "https://localhost:8080/"
        },
        "id": "fb72I4MAnw8C",
        "outputId": "d07e5dff-0d56-4937-e7a5-1a6881866b79"
      },
      "execution_count": 50,
      "outputs": [
        {
          "output_type": "stream",
          "name": "stdout",
          "text": [
            "favorite pets\n",
            "{'number 1': 'dogs', 'number 2': 'birds'}\n",
            "favorite people\n",
            "{'number 1': 'mom', 'number 2': 'dad'}\n",
            "favorite foods\n",
            "{'number 1': 'Biriany', 'number 2': 'goat'}\n"
          ]
        }
      ]
    },
    {
      "cell_type": "code",
      "source": [
        "# Program that takes in groups of numbers and checks if they are the same\n",
        "group1 = [56,7,8,9,12,1,233]\n",
        "group2 = [123,5,1,645,7,548]\n",
        "group3 = [56,7,8,9,12,1,233]\n",
        "\n",
        "if group1 == group2:\n",
        "  print('Groups 1 and 2 are the same')\n",
        "else:\n",
        "  print('Groups 1 and 2 are not the same')\n",
        "if group1 == group3:\n",
        "  print('Groups 1 and 3 are the same')\n",
        "else:\n",
        "  print('Groups 1 and 3 are not the same')\n",
        "if group2 == group3:\n",
        "  print('Groups 2 and 3 are the same')\n",
        "else:\n",
        "  print('Groups 2 and 3 are not the same')\n",
        "  # series of conditionals to check if the groups are equal\n"
      ],
      "metadata": {
        "colab": {
          "base_uri": "https://localhost:8080/"
        },
        "id": "SM7q7HR9nw1t",
        "outputId": "21c0466d-8b41-4a95-bbf0-3d767cf64ce3"
      },
      "execution_count": 51,
      "outputs": [
        {
          "output_type": "stream",
          "name": "stdout",
          "text": [
            "Groups 1 and 2 are not the same\n",
            "Groups 1 and 3 are the same\n",
            "Groups 2 and 3 are not the same\n"
          ]
        }
      ]
    },
    {
      "cell_type": "code",
      "source": [
        "# Generate a list of five numbers\n",
        "llist = [1,2,3,4,5]"
      ],
      "metadata": {
        "id": "CmQoE34yodYv"
      },
      "execution_count": 52,
      "outputs": []
    },
    {
      "cell_type": "code",
      "source": [
        "# Write a program to generate a combo of all values using each vowel only once\n",
        "vowels = ['a','e','i','o','u','y']\n",
        "for i in range(len(vowels)):\n",
        "  print(vowels[i])\n",
        "# I mean this does use each vowel only once at least"
      ],
      "metadata": {
        "colab": {
          "base_uri": "https://localhost:8080/"
        },
        "id": "xKo68-eIodTQ",
        "outputId": "2660ec60-cdec-44cf-f093-ede32c593e2a"
      },
      "execution_count": 53,
      "outputs": [
        {
          "output_type": "stream",
          "name": "stdout",
          "text": [
            "a\n",
            "e\n",
            "i\n",
            "o\n",
            "u\n",
            "y\n"
          ]
        }
      ]
    },
    {
      "cell_type": "code",
      "source": [
        "nlist = [2,13,14,123,77,5]"
      ],
      "metadata": {
        "id": "hVZwdXooodOR"
      },
      "execution_count": 54,
      "outputs": []
    },
    {
      "cell_type": "code",
      "source": [
        "#Write a program to remove every third number from a list until the list is empty\n",
        "for i in range(len(nlist)):\n",
        "  if i == 2:\n",
        "    nlist.pop(i)\n",
        "    # Check if the list is less than 3 items in length, if it is then we pop the last item instead\n",
        "  if len(nlist) <=2:\n",
        "    nlist.pop()\n",
        "nlist"
      ],
      "metadata": {
        "colab": {
          "base_uri": "https://localhost:8080/"
        },
        "id": "5JKoF6mdodA-",
        "outputId": "ca84b9aa-b2c6-427b-e305-6c9a3e59ff7c"
      },
      "execution_count": 55,
      "outputs": [
        {
          "output_type": "execute_result",
          "data": {
            "text/plain": [
              "[2, 13, 123, 77, 5]"
            ]
          },
          "metadata": {},
          "execution_count": 55
        }
      ]
    },
    {
      "cell_type": "code",
      "source": [
        "# generate and output a list of 10 random numbers\n",
        "import random\n",
        "nlist = []\n",
        "for i in range(9):\n",
        "  n = random.randint(0,10)\n",
        "  nlist.append(n)\n",
        "  print(f'Here is your list of random numbers {nlist}')"
      ],
      "metadata": {
        "colab": {
          "base_uri": "https://localhost:8080/"
        },
        "id": "b5-22b1koc7_",
        "outputId": "0ca87a32-4421-4a9c-f7dd-eeb505665a11"
      },
      "execution_count": 56,
      "outputs": [
        {
          "output_type": "stream",
          "name": "stdout",
          "text": [
            "Here is your list of random numbers [10]\n",
            "Here is your list of random numbers [10, 10]\n",
            "Here is your list of random numbers [10, 10, 1]\n",
            "Here is your list of random numbers [10, 10, 1, 4]\n",
            "Here is your list of random numbers [10, 10, 1, 4, 8]\n",
            "Here is your list of random numbers [10, 10, 1, 4, 8, 2]\n",
            "Here is your list of random numbers [10, 10, 1, 4, 8, 2, 5]\n",
            "Here is your list of random numbers [10, 10, 1, 4, 8, 2, 5, 10]\n",
            "Here is your list of random numbers [10, 10, 1, 4, 8, 2, 5, 10, 7]\n"
          ]
        }
      ]
    },
    {
      "cell_type": "code",
      "source": [
        "# sums up three numbers from a list. Can be changed to add different numbers from the list\n",
        "nlist = [1,5,7,8,9,0]\n",
        "sum = nlist[0] + nlist[3] + nlist[2]\n",
        "sum"
      ],
      "metadata": {
        "colab": {
          "base_uri": "https://localhost:8080/"
        },
        "id": "QnNTFi9vnwy_",
        "outputId": "172d977f-0c9c-497b-9e5f-ea286db8dfd3"
      },
      "execution_count": 57,
      "outputs": [
        {
          "output_type": "execute_result",
          "data": {
            "text/plain": [
              "16"
            ]
          },
          "metadata": {},
          "execution_count": 57
        }
      ]
    },
    {
      "cell_type": "code",
      "source": [
        " # another code for the above problem\n",
        "nlist = [1,2,3]\n",
        " for i in nlist:\n",
        "   x=1\n",
        "   x += i\n",
        "print(x)"
      ],
      "metadata": {
        "colab": {
          "base_uri": "https://localhost:8080/"
        },
        "id": "evxMdSznpU0_",
        "outputId": "10b48c23-f9c1-402a-db2d-dab168649958"
      },
      "execution_count": 58,
      "outputs": [
        {
          "output_type": "stream",
          "name": "stdout",
          "text": [
            "4\n"
          ]
        }
      ]
    },
    {
      "cell_type": "code",
      "source": [
        ""
      ],
      "metadata": {
        "id": "Dp0EndqqpUvp"
      },
      "execution_count": null,
      "outputs": []
    },
    {
      "cell_type": "code",
      "source": [
        ""
      ],
      "metadata": {
        "id": "7RVbFeaYpUrB"
      },
      "execution_count": null,
      "outputs": []
    }
  ]
}